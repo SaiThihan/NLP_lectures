{
 "cells": [
  {
   "cell_type": "code",
   "execution_count": 33,
   "id": "b8f9f5fd-6b3a-4308-99d4-eace3340f1af",
   "metadata": {},
   "outputs": [],
   "source": [
    "#Basic regular expressions patterns\n",
    "import re"
   ]
  },
  {
   "cell_type": "code",
   "execution_count": 34,
   "id": "f1451742-ebee-4b3e-a06c-534cea10a2ac",
   "metadata": {},
   "outputs": [
    {
     "name": "stdout",
     "output_type": "stream",
     "text": [
      "Matches found: ['woodchucks']\n"
     ]
    }
   ],
   "source": [
    "#Metacharacter '/' slash\n",
    "text = 'interesting links to woodchucks and lemurs'\n",
    "\n",
    "#pattern to match the word /woodchucks/\n",
    "pattern = r'woodchucks'\n",
    "match = re.findall(pattern,text)\n",
    "print(f\"Matches found: {match}\")"
   ]
  },
  {
   "cell_type": "code",
   "execution_count": null,
   "id": "cc2157d1-54a1-4851-95f2-552c879ca020",
   "metadata": {},
   "outputs": [],
   "source": []
  },
  {
   "cell_type": "code",
   "execution_count": 35,
   "id": "9f7f8d8e-98b0-448e-8d81-5dbedd9cbb11",
   "metadata": {},
   "outputs": [
    {
     "name": "stdout",
     "output_type": "stream",
     "text": [
      "Matches found: ['C']\n"
     ]
    }
   ],
   "source": [
    "#metacharacter square bracket '[]'\n",
    "#[ABC] : match either 'A', 'B' or 'C'\n",
    "#[abc] : match either 'a', 'b' or 'c'\n",
    "\n",
    "text = 'I have an apple , a banana, and a Cucumber.'\n",
    "pattern = r'[ABC]'\n",
    "match = re.findall(pattern,text)\n",
    "print(f\"Matches found: {match}\")"
   ]
  },
  {
   "cell_type": "code",
   "execution_count": null,
   "id": "93ac0196-0b3e-4ff4-8e95-af929e1d27fe",
   "metadata": {},
   "outputs": [],
   "source": []
  },
  {
   "cell_type": "code",
   "execution_count": 36,
   "id": "bdf20a1a-68cc-410f-8ee8-dc2147fec824",
   "metadata": {},
   "outputs": [
    {
     "name": "stdout",
     "output_type": "stream",
     "text": [
      "Matches found: ['H', 'W']\n"
     ]
    }
   ],
   "source": [
    "#metacharacter the dash '-'\n",
    "#[A-Z] : match any single uppercase from A to Z.\n",
    "\n",
    "text = \"Hello World\"\n",
    "pattern = r'[A-Z]'\n",
    "match = re.findall(pattern,text)\n",
    "print(f\"Matches found: {match}\")"
   ]
  },
  {
   "cell_type": "code",
   "execution_count": null,
   "id": "66bb2ce3-d553-4aec-a1af-4725bc88fa7d",
   "metadata": {},
   "outputs": [],
   "source": []
  },
  {
   "cell_type": "code",
   "execution_count": 37,
   "id": "3db28510-bbc6-4800-8863-92b9558acec5",
   "metadata": {},
   "outputs": [
    {
     "name": "stdout",
     "output_type": "stream",
     "text": [
      "Matches found: ['e', 'l', 'l', 'o', ' ', 'o', 'r', 'l', 'd']\n",
      "Matches found: ['a^b']\n"
     ]
    }
   ],
   "source": [
    "#metacharacter the caret '^'\n",
    "#[^A-Z] : match not an uppercase letter from A to Z.\n",
    "\n",
    "text = \"Hello World\"\n",
    "pattern = r'[^A-Z]'\n",
    "match = re.findall(pattern,text)\n",
    "print(f\"Matches found: {match}\")\n",
    "\n",
    "#a^b match the literal string \"a^b\"\n",
    "text = \"a^b is an expression\"\n",
    "pattern = r'a\\^b'\n",
    "match = re.findall(pattern,text)\n",
    "print(f\"Matches found: {match}\")"
   ]
  },
  {
   "cell_type": "code",
   "execution_count": null,
   "id": "9f0c7162-38d4-4879-9c04-77027df29ce6",
   "metadata": {},
   "outputs": [],
   "source": []
  },
  {
   "cell_type": "code",
   "execution_count": 38,
   "id": "45dee095-4931-4840-876d-8c0a7a934cda",
   "metadata": {},
   "outputs": [
    {
     "name": "stdout",
     "output_type": "stream",
     "text": [
      "Matches found: ['woodchuck', 'woodchucks']\n"
     ]
    }
   ],
   "source": [
    "#metacharacter the question mark - ?\n",
    "#woodchucks? match the string 'woodchuck' followed by an optional 's'\n",
    "\n",
    "text = \"How much wood would a woodchuck chuck if woodchucks could chuck wood?\"\n",
    "pattern = r'woodchucks?'\n",
    "match = re.findall(pattern,text)\n",
    "print(f\"Matches found: {match}\")"
   ]
  },
  {
   "cell_type": "code",
   "execution_count": null,
   "id": "5da00f97-fc78-41f7-a1e0-0be565c5209e",
   "metadata": {},
   "outputs": [],
   "source": []
  },
  {
   "cell_type": "code",
   "execution_count": 39,
   "id": "8ee166c3-2da3-4f83-9008-24eb5391ae6a",
   "metadata": {},
   "outputs": [
    {
     "name": "stdout",
     "output_type": "stream",
     "text": [
      "Matches found: ['aaa', '', '', '', '']\n",
      "Matches found: ['aaa']\n",
      "Matches found: ['aaabbb', '', '', '', '']\n",
      "Matches found: ['123', '456']\n"
     ]
    }
   ],
   "source": [
    "#Kleene Star *\n",
    "#It match zero or more occurrences of the preceding element.\n",
    "# /a*/ : match zero or more 'a' characters.\n",
    "\n",
    "text = \"aaabbb\"\n",
    "pattern = r'a*'\n",
    "match = re.findall(pattern,text)\n",
    "print(f\"Matches found: {match}\")\n",
    "\n",
    "# /aa*/ : matches one 'a' followed by zero or more 'a' characters\n",
    "text = \"aaabbb\"\n",
    "pattern = r'aa*'\n",
    "match = re.findall(pattern,text)\n",
    "print(f\"Matches found: {match}\")\n",
    "\n",
    "#/[ab]*/ : matches zero or more 'a' or 'b' characters.\n",
    "text = \"aaabbbccc\"\n",
    "pattern = r'[ab]*'\n",
    "match = re.findall(pattern,text)\n",
    "print(f\"Matches found: {match}\")\n",
    "\n",
    "#/[0-9][0-9]*/ : matches one digit followed by zero or more digits\n",
    "text = \"123abc456\"\n",
    "pattern = r'[0-9][0-9]*'\n",
    "match = re.findall(pattern,text)\n",
    "print(f\"Matches found: {match}\")"
   ]
  },
  {
   "cell_type": "code",
   "execution_count": null,
   "id": "9f58c3b7-b8ff-450c-9a92-07fd5ec3609a",
   "metadata": {},
   "outputs": [],
   "source": []
  },
  {
   "cell_type": "code",
   "execution_count": 40,
   "id": "36566e1b-3006-4802-b788-7d887bf40d07",
   "metadata": {},
   "outputs": [
    {
     "name": "stdout",
     "output_type": "stream",
     "text": [
      "Matches with /baaa*!/: ['baaaa!']\n",
      "Matches with /baaa*!/: ['baaaa!']\n",
      "Matches found: ['H', 'e', 'l', 'l', 'o', ' ', 'W', 'o', 'r', 'l', 'd', '!']\n",
      "Matches found: ['Hello World!', '']\n",
      "Matches found: ['']\n",
      "Matches found: ['cat', 'bat', 'rat']\n"
     ]
    }
   ],
   "source": [
    "#Kleene + \n",
    "#/baaa*!/ : match \"b' followed by one 'a' and zero or more 'a's followed by '!' . Equivalent to /baa+!/\n",
    "\n",
    "text = \"baaaa!\"\n",
    "pattern1 = r'baaa*!'\n",
    "pattern2 = r'baa+!'\n",
    "\n",
    "match1 = re.findall(pattern1, text)\n",
    "match2 = re.findall(pattern2, text)\n",
    "\n",
    "print(f\"Matches with /baaa*!/: {match1}\")\n",
    "print(f\"Matches with /baaa*!/: {match2}\")\n",
    "\n",
    "#/ ./ : pattern 'dot' match any single character except new line\n",
    "text = \"Hello World!\"\n",
    "pattern = r'.'\n",
    "match = re.findall(pattern,text)\n",
    "print(f\"Matches found: {match}\")\n",
    "\n",
    "# /.*/ : it match zero or more of any character except new line\n",
    "text = \"Hello World!\"\n",
    "pattern = r'.*'\n",
    "match = re.findall(pattern,text)\n",
    "print(f\"Matches found: {match}\")\n",
    "\n",
    "# ^$ : this pattern matches an empty string. \n",
    "text = \"\\n\" #just a new line character\n",
    "pattern = r'^$'\n",
    "match = re.findall(pattern,text)\n",
    "print(f\"Matches found: {match}\")\n",
    "\n",
    "# metacharactor \"|\" pipe acts as logical OR in regex\n",
    "text = \"cat bat rat\"\n",
    "pattern = r'cat|bat|rat'\n",
    "match = re.findall(pattern,text)\n",
    "print(f\"Matches found: {match}\")"
   ]
  },
  {
   "cell_type": "code",
   "execution_count": null,
   "id": "d40869b7-c613-4622-9ee4-7a5597d514e9",
   "metadata": {},
   "outputs": [],
   "source": []
  },
  {
   "cell_type": "code",
   "execution_count": 42,
   "id": "33feabdd-65c6-4060-becf-c9c7f61d7b31",
   "metadata": {},
   "outputs": [
    {
     "name": "stdout",
     "output_type": "stream",
     "text": [
      "Matches found: ['bbb']\n",
      "Matches found: ['a........................z']\n"
     ]
    }
   ],
   "source": [
    "#Kleene+\n",
    "#Kleene + can also use explicit numbers as counters, by enclosing them in curly brackets\n",
    "import re\n",
    "# Example 1: Exactly 3 occurrences of 'b'\n",
    "text = \"abbcccbbbbb\"\n",
    "pattern = r'b{3}'\n",
    "match = re.findall(pattern, text)\n",
    "print(f\"Matches found: {match}\")\n",
    "\n",
    "# Example 2: 'a' followed by exactly 24 dots and 'z'\n",
    "text = \"a........................z another string\"\n",
    "pattern = r'a\\.{24}z'\n",
    "match = re.findall(pattern, text)\n",
    "print(f\"Matches found: {match}\")"
   ]
  },
  {
   "cell_type": "code",
   "execution_count": null,
   "id": "9bab1928-60d0-42c6-afd5-0d8fadd9c6a7",
   "metadata": {},
   "outputs": [],
   "source": []
  }
 ],
 "metadata": {
  "kernelspec": {
   "display_name": "Python 3 (ipykernel)",
   "language": "python",
   "name": "python3"
  },
  "language_info": {
   "codemirror_mode": {
    "name": "ipython",
    "version": 3
   },
   "file_extension": ".py",
   "mimetype": "text/x-python",
   "name": "python",
   "nbconvert_exporter": "python",
   "pygments_lexer": "ipython3",
   "version": "3.10.12"
  }
 },
 "nbformat": 4,
 "nbformat_minor": 5
}
